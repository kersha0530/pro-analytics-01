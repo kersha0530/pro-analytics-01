{
 "cells": [
  {
   "cell_type": "code",
   "execution_count": 1,
   "id": "b09873a3-8c18-4fa1-bc28-0a6e2ace1157",
   "metadata": {},
   "outputs": [
    {
     "name": "stderr",
     "output_type": "stream",
     "text": [
      "\u001b[32m2025-01-30 22:54:18.278\u001b[0m | \u001b[1mINFO    \u001b[0m | \u001b[36mutils_logger\u001b[0m:\u001b[36m<module>\u001b[0m:\u001b[36m32\u001b[0m - \u001b[1mLog folder created at: logs\u001b[0m\n",
      "\u001b[32m2025-01-30 22:54:18.280\u001b[0m | \u001b[1mINFO    \u001b[0m | \u001b[36mutils_logger\u001b[0m:\u001b[36m<module>\u001b[0m:\u001b[36m39\u001b[0m - \u001b[1mLogging to file: logs\\project_log.log\u001b[0m\n",
      "\u001b[32m2025-01-30 22:54:18.281\u001b[0m | \u001b[1mINFO    \u001b[0m | \u001b[36m__main__\u001b[0m:\u001b[36m<module>\u001b[0m:\u001b[36m2\u001b[0m - \u001b[1mLogger successfully imported!\u001b[0m\n"
     ]
    }
   ],
   "source": [
    "from utils_logger import logger\n",
    "logger.info(\"Logger successfully imported!\")\n"
   ]
  },
  {
   "cell_type": "code",
   "execution_count": null,
   "id": "0c4453ab-14e8-417b-960e-709a05f50141",
   "metadata": {},
   "outputs": [],
   "source": [
    "import os\n",
    "print(\"Current Working Directory:\", os.getcwd())\n"
   ]
  },
  {
   "cell_type": "code",
   "execution_count": null,
   "id": "8bd08a2f-fddd-484b-bb91-bbe204a6e02a",
   "metadata": {},
   "outputs": [],
   "source": []
  }
 ],
 "metadata": {
  "kernelspec": {
   "display_name": "Python 3 (ipykernel)",
   "language": "python",
   "name": "python3"
  },
  "language_info": {
   "codemirror_mode": {
    "name": "ipython",
    "version": 3
   },
   "file_extension": ".py",
   "mimetype": "text/x-python",
   "name": "python",
   "nbconvert_exporter": "python",
   "pygments_lexer": "ipython3",
   "version": "3.11.9"
  }
 },
 "nbformat": 4,
 "nbformat_minor": 5
}
